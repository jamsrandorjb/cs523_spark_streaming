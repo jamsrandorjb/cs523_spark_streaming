{
 "cells": [
  {
   "cell_type": "code",
   "execution_count": 49,
   "metadata": {},
   "outputs": [],
   "source": [
    "import pandas as pd\n",
    "import matplotlib.pyplot as plt\n",
    "df = pd.read_csv('/Users/jamsrandorjb/Desktop/cs523_project/calculated1.txt', delimiter='\\t', header=None, names=[\"row_id\", \"full_text\", \"positive_predictions\", \"negative_predictions\",\"created_on\"])"
   ]
  },
  {
   "cell_type": "code",
   "execution_count": 50,
   "metadata": {},
   "outputs": [
    {
     "data": {
      "text/html": [
       "<div>\n",
       "<style scoped>\n",
       "    .dataframe tbody tr th:only-of-type {\n",
       "        vertical-align: middle;\n",
       "    }\n",
       "\n",
       "    .dataframe tbody tr th {\n",
       "        vertical-align: top;\n",
       "    }\n",
       "\n",
       "    .dataframe thead th {\n",
       "        text-align: right;\n",
       "    }\n",
       "</style>\n",
       "<table border=\"1\" class=\"dataframe\">\n",
       "  <thead>\n",
       "    <tr style=\"text-align: right;\">\n",
       "      <th></th>\n",
       "      <th>row_id</th>\n",
       "      <th>full_text</th>\n",
       "      <th>positive_predictions</th>\n",
       "      <th>negative_predictions</th>\n",
       "      <th>created_on</th>\n",
       "    </tr>\n",
       "  </thead>\n",
       "  <tbody>\n",
       "    <tr>\n",
       "      <th>0</th>\n",
       "      <td>10890</td>\n",
       "      <td>CityofVancouver: trek604 Good morning Trevor, ...</td>\n",
       "      <td>0.000000</td>\n",
       "      <td>0.111111</td>\n",
       "      <td>2018-05-22 10:35</td>\n",
       "    </tr>\n",
       "    <tr>\n",
       "      <th>1</th>\n",
       "      <td>10891</td>\n",
       "      <td>RT @DunHSChemistry: And we are off! Our S1 Sci...</td>\n",
       "      <td>0.041667</td>\n",
       "      <td>0.000000</td>\n",
       "      <td>2018-05-22 10:35</td>\n",
       "    </tr>\n",
       "    <tr>\n",
       "      <th>2</th>\n",
       "      <td>10892</td>\n",
       "      <td>RT @LYFSTYLmag: Meet Elijah Bank$y, the #NewYo...</td>\n",
       "      <td>0.058824</td>\n",
       "      <td>0.000000</td>\n",
       "      <td>2018-05-22 10:35</td>\n",
       "    </tr>\n",
       "    <tr>\n",
       "      <th>3</th>\n",
       "      <td>10893</td>\n",
       "      <td>RT @ClaygateNetball: Super excited to announce...</td>\n",
       "      <td>0.076923</td>\n",
       "      <td>0.000000</td>\n",
       "      <td>2018-05-22 10:35</td>\n",
       "    </tr>\n",
       "    <tr>\n",
       "      <th>4</th>\n",
       "      <td>10894</td>\n",
       "      <td>RT @PriorConstruct: Quick pic (Addition from r...</td>\n",
       "      <td>0.047619</td>\n",
       "      <td>0.000000</td>\n",
       "      <td>2018-05-22 10:35</td>\n",
       "    </tr>\n",
       "  </tbody>\n",
       "</table>\n",
       "</div>"
      ],
      "text/plain": [
       "   row_id                                          full_text  \\\n",
       "0   10890  CityofVancouver: trek604 Good morning Trevor, ...   \n",
       "1   10891  RT @DunHSChemistry: And we are off! Our S1 Sci...   \n",
       "2   10892  RT @LYFSTYLmag: Meet Elijah Bank$y, the #NewYo...   \n",
       "3   10893  RT @ClaygateNetball: Super excited to announce...   \n",
       "4   10894  RT @PriorConstruct: Quick pic (Addition from r...   \n",
       "\n",
       "   positive_predictions  negative_predictions        created_on  \n",
       "0              0.000000              0.111111  2018-05-22 10:35  \n",
       "1              0.041667              0.000000  2018-05-22 10:35  \n",
       "2              0.058824              0.000000  2018-05-22 10:35  \n",
       "3              0.076923              0.000000  2018-05-22 10:35  \n",
       "4              0.047619              0.000000  2018-05-22 10:35  "
      ]
     },
     "execution_count": 50,
     "metadata": {},
     "output_type": "execute_result"
    }
   ],
   "source": [
    "df.head()"
   ]
  },
  {
   "cell_type": "code",
   "execution_count": 51,
   "metadata": {},
   "outputs": [
    {
     "data": {
      "text/html": [
       "<div>\n",
       "<style scoped>\n",
       "    .dataframe tbody tr th:only-of-type {\n",
       "        vertical-align: middle;\n",
       "    }\n",
       "\n",
       "    .dataframe tbody tr th {\n",
       "        vertical-align: top;\n",
       "    }\n",
       "\n",
       "    .dataframe thead th {\n",
       "        text-align: right;\n",
       "    }\n",
       "</style>\n",
       "<table border=\"1\" class=\"dataframe\">\n",
       "  <thead>\n",
       "    <tr style=\"text-align: right;\">\n",
       "      <th></th>\n",
       "      <th>row_id</th>\n",
       "      <th>full_text</th>\n",
       "      <th>positive_predictions</th>\n",
       "      <th>negative_predictions</th>\n",
       "      <th>created_on</th>\n",
       "    </tr>\n",
       "  </thead>\n",
       "  <tbody>\n",
       "    <tr>\n",
       "      <th>4107</th>\n",
       "      <td>14997</td>\n",
       "      <td>Sleep at The Roosevelt Hotel! Lyft app gets yo...</td>\n",
       "      <td>0.041667</td>\n",
       "      <td>0.000000</td>\n",
       "      <td>2018-05-22 15:42</td>\n",
       "    </tr>\n",
       "    <tr>\n",
       "      <th>4108</th>\n",
       "      <td>14998</td>\n",
       "      <td>RT @kev_south: This BMW is being stolen using ...</td>\n",
       "      <td>0.000000</td>\n",
       "      <td>0.043478</td>\n",
       "      <td>2018-05-22 15:42</td>\n",
       "    </tr>\n",
       "    <tr>\n",
       "      <th>4109</th>\n",
       "      <td>14999</td>\n",
       "      <td>Free speaker event from @Arcteryx #Vancouver o...</td>\n",
       "      <td>0.055556</td>\n",
       "      <td>0.000000</td>\n",
       "      <td>2018-05-22 15:42</td>\n",
       "    </tr>\n",
       "    <tr>\n",
       "      <th>4110</th>\n",
       "      <td>15000</td>\n",
       "      <td>Want something fun to do this weekend? Why not...</td>\n",
       "      <td>0.100000</td>\n",
       "      <td>0.000000</td>\n",
       "      <td>2018-05-22 15:42</td>\n",
       "    </tr>\n",
       "    <tr>\n",
       "      <th>4111</th>\n",
       "      <td>15001</td>\n",
       "      <td>If you're looking for work in #Vancouver, BC, ...</td>\n",
       "      <td>0.062500</td>\n",
       "      <td>0.000000</td>\n",
       "      <td>2018-05-22 15:42</td>\n",
       "    </tr>\n",
       "  </tbody>\n",
       "</table>\n",
       "</div>"
      ],
      "text/plain": [
       "      row_id                                          full_text  \\\n",
       "4107   14997  Sleep at The Roosevelt Hotel! Lyft app gets yo...   \n",
       "4108   14998  RT @kev_south: This BMW is being stolen using ...   \n",
       "4109   14999  Free speaker event from @Arcteryx #Vancouver o...   \n",
       "4110   15000  Want something fun to do this weekend? Why not...   \n",
       "4111   15001  If you're looking for work in #Vancouver, BC, ...   \n",
       "\n",
       "      positive_predictions  negative_predictions        created_on  \n",
       "4107              0.041667              0.000000  2018-05-22 15:42  \n",
       "4108              0.000000              0.043478  2018-05-22 15:42  \n",
       "4109              0.055556              0.000000  2018-05-22 15:42  \n",
       "4110              0.100000              0.000000  2018-05-22 15:42  \n",
       "4111              0.062500              0.000000  2018-05-22 15:42  "
      ]
     },
     "execution_count": 51,
     "metadata": {},
     "output_type": "execute_result"
    }
   ],
   "source": [
    "df.tail()"
   ]
  },
  {
   "cell_type": "code",
   "execution_count": 63,
   "metadata": {},
   "outputs": [
    {
     "name": "stdout",
     "output_type": "stream",
     "text": [
      "total row : 4112\n"
     ]
    }
   ],
   "source": [
    "Total = df['positive_predictions'].count()\n",
    "Total1 = (df['positive_predictions'].sum()/Total)*100\n",
    "Total2 = (df['negative_predictions'].sum()/Total)*100\n",
    "print ('total row : '+str(Total))"
   ]
  },
  {
   "cell_type": "code",
   "execution_count": 68,
   "metadata": {},
   "outputs": [
    {
     "name": "stdout",
     "output_type": "stream",
     "text": [
      "Pessimistic_tweets : 5.414865065307243\n",
      "Positive_tweets : 1.7907768198817917\n",
      "N/A : 42.79435811481096\n"
     ]
    },
    {
     "data": {
      "image/png": "[encoded data removed]",
      "text/plain": [
       "<Figure size 432x288 with 1 Axes>"
      ]
     },
     "metadata": {},
     "output_type": "display_data"
    }
   ],
   "source": [
    "labels = ['Pessimistic_tweets','Positive_tweets','N/A']\n",
    "#substructing from 50 because sometimes one field is 0\n",
    "N_A_tweets = 50 - Total2 - Total1\n",
    "\n",
    "labels = 'Pessimistic_tweets', 'Positive_tweets', 'N/A'\n",
    "values = [Total2,Total1,N_A_tweets]\n",
    "print('Pessimistic_tweets : ' + str(Total1))\n",
    "print('Positive_tweets : ' + str(Total2))\n",
    "print('N/A : ' + str(N_A_tweets))\n",
    "explode = (0.5, 0.5, 0)  \n",
    "fig1, ax1 = plt.subplots()\n",
    "ax1.pie(values, explode=explode, labels=labels, autopct='%1.1f%%',\n",
    "        shadow=True, startangle=90)\n",
    "ax1.axis('equal')\n",
    "plt.show()\n"
   ]
  },
  {
   "cell_type": "code",
   "execution_count": null,
   "metadata": {},
   "outputs": [],
   "source": []
  },
  {
   "cell_type": "code",
   "execution_count": null,
   "metadata": {},
   "outputs": [],
   "source": []
  }
 ],
 "metadata": {
  "kernelspec": {
   "display_name": "Python 3",
   "language": "python",
   "name": "python3"
  },
  "language_info": {
   "codemirror_mode": {
    "name": "ipython",
    "version": 3
   },
   "file_extension": ".py",
   "mimetype": "text/x-python",
   "name": "python",
   "nbconvert_exporter": "python",
   "pygments_lexer": "ipython3",
   "version": "3.6.5"
  }
 },
 "nbformat": 4,
 "nbformat_minor": 2
}
